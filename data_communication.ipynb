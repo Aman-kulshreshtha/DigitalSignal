{
 "cells": [
  {
   "cell_type": "code",
   "execution_count": 6,
   "metadata": {},
   "outputs": [],
   "source": [
    "import numpy as np\n",
    "import matplotlib as mpl\n",
    "import matplotlib.pyplot as plt\n",
    "import math\n",
    "\n"
   ]
  },
  {
   "cell_type": "code",
   "execution_count": 3,
   "metadata": {},
   "outputs": [],
   "source": [
    "%matplotlib inline"
   ]
  },
  {
   "cell_type": "code",
   "execution_count": 17,
   "metadata": {},
   "outputs": [],
   "source": [
    "%matplotlib inline\n",
    "\n",
    "plt.rcParams['figure.figsize'] = (10,4)\n",
    "plt.rcParams['figure.dpi'] = 150\n"
   ]
  },
  {
   "cell_type": "code",
   "execution_count": 5,
   "metadata": {},
   "outputs": [],
   "source": [
    "from ipywidgets import interact,interactive,fixed,interact_manual\n",
    "import ipywidgets as widgets\n"
   ]
  },
  {
   "cell_type": "code",
   "execution_count": 23,
   "metadata": {
    "scrolled": false
   },
   "outputs": [
    {
     "data": {
      "application/vnd.jupyter.widget-view+json": {
       "model_id": "8b2338a16a6b41e3b84e207be41bc089",
       "version_major": 2,
       "version_minor": 0
      },
      "text/plain": [
       "interactive(children=(IntSlider(value=0, description='terms', max=25), FloatSlider(value=2.0, description='fre…"
      ]
     },
     "metadata": {},
     "output_type": "display_data"
    },
    {
     "data": {
      "text/plain": [
       "<function __main__.signal(terms, frequency)>"
      ]
     },
     "execution_count": 23,
     "metadata": {},
     "output_type": "execute_result"
    }
   ],
   "source": [
    "\n",
    "\n",
    "def signal(terms,frequency):\n",
    "    N = terms\n",
    "    \n",
    "    \n",
    "    f = frequency\n",
    "   \n",
    "        \n",
    "          \n",
    "    \n",
    "    f = 1000000 * float(frequency)\n",
    "        \n",
    "      \n",
    "    \n",
    "    t = np.arange(0, 0.000005 , 0.000000001)\n",
    "\n",
    "    terms = np.sin(2*math.pi*f*t)\n",
    "\n",
    "    for i in range(1, N + 1):\n",
    "        terms += (1 / (2 * i + 1)) * np.sin((2 * i + 1) * 2*math.pi*f*t)\n",
    "    \n",
    "    plt.plot(t,(4 / math.pi) * terms)\n",
    "    \n",
    "interact(signal,terms = widgets.IntSlider(min=-0, max=25, step=1, value=0) ,frequency =(1,4,0.1))\n",
    "\n",
    "\n",
    "\n",
    "\n",
    "    \n",
    "    "
   ]
  },
  {
   "cell_type": "code",
   "execution_count": 27,
   "metadata": {},
   "outputs": [
    {
     "data": {
      "application/vnd.jupyter.widget-view+json": {
       "model_id": "ce2c35d2b6d04ed596cbb10830e058ce",
       "version_major": 2,
       "version_minor": 0
      },
      "text/plain": [
       "interactive(children=(Text(value='0101', description='bit_sequence'), IntSlider(value=0, description='noise', …"
      ]
     },
     "metadata": {},
     "output_type": "display_data"
    },
    {
     "data": {
      "text/plain": [
       "<function __main__.NRZ_L(bit_sequence, noise)>"
      ]
     },
     "execution_count": 27,
     "metadata": {},
     "output_type": "execute_result"
    }
   ],
   "source": [
    "def NRZ_L(bit_sequence,noise):\n",
    "    if (bit_sequence == ''):\n",
    "        bit_sequence = '0'\n",
    "    \n",
    "        \n",
    "\n",
    "    high_bit = np.ones((10), dtype=int)\n",
    "    low_bit = np.full((10), -1, dtype=int)\n",
    "    \n",
    "    l = len(bit_sequence)\n",
    "\n",
    "    t = np.arange(0, 1, 0.01)\n",
    "\n",
    "    if (bit_sequence[0] == '1'):\n",
    "        y1 = low_bit\n",
    "    else:\n",
    "        y1 = high_bit\n",
    "\n",
    "    for i in range(1, 10):\n",
    "        if (bit_sequence[i % l] == '1'):\n",
    "            y1 = np.concatenate((y1, low_bit))\n",
    "        else:\n",
    "            y1 = np.concatenate((y1, high_bit))\n",
    "    \n",
    "    plt.plot(t,y1 + np.random.normal( 0,0.1*noise,100))\n",
    "    \n",
    "\n",
    "interact(NRZ_L,bit_sequence = '0101',noise = widgets.IntSlider(min=-0, max=10, step=1, value=0)) \n",
    "\n"
   ]
  },
  {
   "cell_type": "code",
   "execution_count": 29,
   "metadata": {},
   "outputs": [
    {
     "data": {
      "application/vnd.jupyter.widget-view+json": {
       "model_id": "4418d8f14146490aae42ae486e162358",
       "version_major": 2,
       "version_minor": 0
      },
      "text/plain": [
       "interactive(children=(Text(value='0101', description='bit_sequence'), IntSlider(value=0, description='noise', …"
      ]
     },
     "metadata": {},
     "output_type": "display_data"
    },
    {
     "data": {
      "text/plain": [
       "<function __main__.NRZ_L(bit_sequence, noise)>"
      ]
     },
     "execution_count": 29,
     "metadata": {},
     "output_type": "execute_result"
    }
   ],
   "source": [
    "def NRZ_I(bit_sequence,noise):\n",
    "    \n",
    "    \n",
    "    high_bit = np.ones((10), dtype=int)\n",
    "    low_bit = np.full((10), -1, dtype=int)\n",
    "    flag = False\n",
    "    l = len(bit_sequence)\n",
    "\n",
    "    t = np.arange(0, 1, 0.01)\n",
    "    if (bit_sequence[0] == '1'):\n",
    "        \n",
    "        y2 = high_bit\n",
    "        flag = True\n",
    "\n",
    "   \n",
    "\n",
    "\n",
    "    else:\n",
    "        y2 = low_bit\n",
    "\n",
    "    for i in range(1, 10):\n",
    "        if (bit_sequence[i % l] == '1'):\n",
    "            if (flag):\n",
    "                y2 = np.concatenate((y2, low_bit))\n",
    "                flag = False\n",
    "\n",
    "            else:\n",
    "                y2 = np.concatenate((y2, high_bit))\n",
    "                flag = True\n",
    "\n",
    "\n",
    "\n",
    "        else:\n",
    "            if (flag):\n",
    "                y2 = np.concatenate((y2, high_bit))\n",
    "            else:\n",
    "                y2 = np.concatenate((y2, low_bit))\n",
    "                \n",
    "                \n",
    "    plt.plot(t,y2+ np.random.normal( 0,0.1*noise,100))\n",
    "\n",
    "interact(NRZ_L,bit_sequence = '0101',noise = widgets.IntSlider(min=-0, max=10, step=1, value=0))    \n"
   ]
  },
  {
   "cell_type": "code",
   "execution_count": null,
   "metadata": {},
   "outputs": [],
   "source": []
  }
 ],
 "metadata": {
  "kernelspec": {
   "display_name": "Python 3",
   "language": "python",
   "name": "python3"
  },
  "language_info": {
   "codemirror_mode": {
    "name": "ipython",
    "version": 3
   },
   "file_extension": ".py",
   "mimetype": "text/x-python",
   "name": "python",
   "nbconvert_exporter": "python",
   "pygments_lexer": "ipython3",
   "version": "3.8.3"
  }
 },
 "nbformat": 4,
 "nbformat_minor": 4
}
