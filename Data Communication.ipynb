{
 "cells": [
  {
   "cell_type": "markdown",
   "metadata": {},
   "source": [
    "   # Data Communication: Digital Signal analysis\n"
   ]
  },
  {
   "cell_type": "markdown",
   "metadata": {},
   "source": [
    " ## Assignment 1\n",
    " "
   ]
  },
  {
   "cell_type": "markdown",
   "metadata": {},
   "source": [
    "### Q.1 )Generate a sine wave of Specific Frequency . Construct a square wave using multiple square waves"
   ]
  },
  {
   "cell_type": "markdown",
   "metadata": {},
   "source": [
    "To generate the required plots We first create the required environment by using the matplotlib  and numpy libraries in python"
   ]
  },
  {
   "cell_type": "code",
   "execution_count": 10,
   "metadata": {},
   "outputs": [],
   "source": [
    "import numpy as np\n",
    "import matplotlib as mpl\n",
    "import matplotlib.pyplot as plt\n",
    "import math\n",
    "\n"
   ]
  },
  {
   "cell_type": "code",
   "execution_count": 11,
   "metadata": {},
   "outputs": [],
   "source": [
    "%matplotlib inline"
   ]
  },
  {
   "cell_type": "code",
   "execution_count": 12,
   "metadata": {},
   "outputs": [],
   "source": [
    "%matplotlib inline\n",
    "\n",
    "plt.rcParams['figure.figsize'] = (10,4)\n",
    "plt.rcParams['figure.dpi'] = 150\n"
   ]
  },
  {
   "cell_type": "code",
   "execution_count": 13,
   "metadata": {},
   "outputs": [],
   "source": [
    "from ipywidgets import interact,interactive,fixed,interact_manual\n",
    "import ipywidgets as widgets\n"
   ]
  },
  {
   "cell_type": "markdown",
   "metadata": {},
   "source": [
    "The function coded below Takes input the frequency of the sine wave using the interactive slider widget.\n"
   ]
  },
  {
   "cell_type": "markdown",
   "metadata": {},
   "source": [
    "A square wave consists of multiple sine waves superposed on one another .\n",
    "The Individual sine waves can be determined using the fourier analysis.\n",
    "in general a simple square wave is given by the following series.\n"
   ]
  },
  {
   "attachments": {
    "image.png": {
     "image/png": "[encoded data removed]"
    }
   },
   "cell_type": "markdown",
   "metadata": {},
   "source": [
    "![image.png](attachment:image.png)"
   ]
  },
  {
   "cell_type": "markdown",
   "metadata": {},
   "source": [
    "from the terms slider we can adjust the number of **terms**  that we add in order to create the square wave.\n",
    "\n"
   ]
  },
  {
   "cell_type": "markdown",
   "metadata": {},
   "source": [
    "The wave is somewhat distorted when the number of terms is low and becomes more and more squared as the number of terms added increases.\n"
   ]
  },
  {
   "cell_type": "markdown",
   "metadata": {},
   "source": [
    "the frequency taken here is is MHz and time in microseconds\n"
   ]
  },
  {
   "cell_type": "code",
   "execution_count": 14,
   "metadata": {
    "scrolled": false
   },
   "outputs": [
    {
     "data": {
      "application/vnd.jupyter.widget-view+json": {
       "model_id": "c47f7ff3ec1545068004bc8bd4e85cb6",
       "version_major": 2,
       "version_minor": 0
      },
      "text/plain": [
       "interactive(children=(IntSlider(value=0, description='terms', max=25), FloatSlider(value=2.0, description='fre…"
      ]
     },
     "metadata": {},
     "output_type": "display_data"
    },
    {
     "data": {
      "text/plain": [
       "<function __main__.signal(terms, frequency)>"
      ]
     },
     "execution_count": 14,
     "metadata": {},
     "output_type": "execute_result"
    }
   ],
   "source": [
    "\n",
    "\n",
    "def signal(terms,frequency):\n",
    "    N = terms\n",
    "    \n",
    "    \n",
    "    f = frequency\n",
    "   \n",
    "        \n",
    "          \n",
    "    \n",
    "    f = 1000000 * float(frequency)\n",
    "        \n",
    "      \n",
    "    \n",
    "    t = np.arange(0, 0.000005 , 0.000000001)\n",
    "\n",
    "    terms = np.sin(2*math.pi*f*t)\n",
    "\n",
    "    for i in range(1, N + 1):\n",
    "        terms += (1 / (2 * i + 1)) * np.sin((2 * i + 1) * 2*math.pi*f*t)\n",
    "    \n",
    "    plt.plot(t,(4 / math.pi) * terms)\n",
    "    \n",
    "interact(signal,terms = widgets.IntSlider(min=-0, max=25, step=1, value=0) ,frequency =(1,4,0.1))\n",
    "\n",
    "\n",
    "\n",
    "\n",
    "    \n",
    "    "
   ]
  },
  {
   "cell_type": "markdown",
   "metadata": {},
   "source": [
    "## Assignment 2"
   ]
  },
  {
   "cell_type": "markdown",
   "metadata": {},
   "source": [
    "### Q.2 )Take a bit sequence and generate a digital signal from the sequence\n",
    "### Plot it's NRZ-I and NRZ-L  signals .\n",
    "### Add a random noise to the above signal and plot the noisy signal\n",
    "### identify the threshold for detection of bit signal back \n"
   ]
  },
  {
   "cell_type": "markdown",
   "metadata": {},
   "source": [
    "The code below takes in input the bit sequence in '0' and '1'  and also the noise Level"
   ]
  },
  {
   "cell_type": "markdown",
   "metadata": {},
   "source": [
    "##### NRZ-L signal \n",
    "\n",
    "In NRZ-L scheme we assign a low signal level to '1' and high signal level to '0'.\n",
    "\n",
    "The NRZ-L signal for the entered bit sequence is plotted by taking -1v for '1' and +1v for '0'.\n",
    "\n",
    "increasing the noise level distorts the signal and after a threshold it is not possible to obtain back the bit sequence.\n"
   ]
  },
  {
   "cell_type": "code",
   "execution_count": 15,
   "metadata": {},
   "outputs": [
    {
     "data": {
      "application/vnd.jupyter.widget-view+json": {
       "model_id": "fa09bbce3e4a4022a3bb9524b0d3ba56",
       "version_major": 2,
       "version_minor": 0
      },
      "text/plain": [
       "interactive(children=(Text(value='0101', description='bit_sequence'), IntSlider(value=0, description='noise', …"
      ]
     },
     "metadata": {},
     "output_type": "display_data"
    },
    {
     "data": {
      "text/plain": [
       "<function __main__.NRZ_L(bit_sequence, noise)>"
      ]
     },
     "execution_count": 15,
     "metadata": {},
     "output_type": "execute_result"
    }
   ],
   "source": [
    "def NRZ_L(bit_sequence,noise):\n",
    "    if (bit_sequence == ''):\n",
    "        bit_sequence = '0'\n",
    "    \n",
    "        \n",
    "\n",
    "    high_bit = np.ones((10), dtype=int)\n",
    "    low_bit = np.full((10), -1, dtype=int)\n",
    "    \n",
    "    l = len(bit_sequence)\n",
    "\n",
    "    t = np.arange(0, 1, 0.01)\n",
    "\n",
    "    if (bit_sequence[0] == '1'):\n",
    "        y1 = low_bit\n",
    "    else:\n",
    "        y1 = high_bit\n",
    "\n",
    "    for i in range(1, 10):\n",
    "        if (bit_sequence[i % l] == '1'):\n",
    "            y1 = np.concatenate((y1, low_bit))\n",
    "        else:\n",
    "            y1 = np.concatenate((y1, high_bit))\n",
    "    \n",
    "    plt.plot(t,y1 + np.random.normal( 0,0.1*noise,100))\n",
    "    \n",
    "\n",
    "interact(NRZ_L,bit_sequence = '0101',noise = widgets.IntSlider(min=-0, max=10, step=1, value=0)) \n",
    "\n"
   ]
  },
  {
   "cell_type": "markdown",
   "metadata": {},
   "source": [
    "##### NRZ-I signal\n",
    "\n",
    "In NRZ-I scheme we invert the signal level as soon as we encounter a '1' \n",
    "The signal continues to remain the same in case of '0' bit.\n",
    "The NRZ-I signal for the given bit sequence is plotted below.\n"
   ]
  },
  {
   "cell_type": "code",
   "execution_count": 16,
   "metadata": {},
   "outputs": [
    {
     "data": {
      "application/vnd.jupyter.widget-view+json": {
       "model_id": "a405783803d24ba582cf9356c2db987e",
       "version_major": 2,
       "version_minor": 0
      },
      "text/plain": [
       "interactive(children=(Text(value='0101', description='bit_sequence'), IntSlider(value=0, description='noise', …"
      ]
     },
     "metadata": {},
     "output_type": "display_data"
    },
    {
     "data": {
      "text/plain": [
       "<function __main__.NRZ_L(bit_sequence, noise)>"
      ]
     },
     "execution_count": 16,
     "metadata": {},
     "output_type": "execute_result"
    }
   ],
   "source": [
    "def NRZ_I(bit_sequence,noise):\n",
    "    \n",
    "    \n",
    "    high_bit = np.ones((10), dtype=int)\n",
    "    low_bit = np.full((10), -1, dtype=int)\n",
    "    flag = False\n",
    "    l = len(bit_sequence)\n",
    "\n",
    "    t = np.arange(0, 1, 0.01)\n",
    "    if (bit_sequence[0] == '1'):\n",
    "        \n",
    "        y2 = high_bit\n",
    "        flag = True\n",
    "\n",
    "   \n",
    "\n",
    "\n",
    "    else:\n",
    "        y2 = low_bit\n",
    "\n",
    "    for i in range(1, 10):\n",
    "        if (bit_sequence[i % l] == '1'):\n",
    "            if (flag):\n",
    "                y2 = np.concatenate((y2, low_bit))\n",
    "                flag = False\n",
    "\n",
    "            else:\n",
    "                y2 = np.concatenate((y2, high_bit))\n",
    "                flag = True\n",
    "\n",
    "\n",
    "\n",
    "        else:\n",
    "            if (flag):\n",
    "                y2 = np.concatenate((y2, high_bit))\n",
    "            else:\n",
    "                y2 = np.concatenate((y2, low_bit))\n",
    "                \n",
    "                \n",
    "    plt.plot(t,y2+ np.random.normal( 0,0.1*noise,100))\n",
    "\n",
    "interact(NRZ_L,bit_sequence = '0101',noise = widgets.IntSlider(min=-0, max=10, step=1, value=0))    \n"
   ]
  },
  {
   "cell_type": "code",
   "execution_count": null,
   "metadata": {},
   "outputs": [],
   "source": []
  }
 ],
 "metadata": {
  "kernelspec": {
   "display_name": "Python 3",
   "language": "python",
   "name": "python3"
  },
  "language_info": {
   "codemirror_mode": {
    "name": "ipython",
    "version": 3
   },
   "file_extension": ".py",
   "mimetype": "text/x-python",
   "name": "python",
   "nbconvert_exporter": "python",
   "pygments_lexer": "ipython3",
   "version": "3.8.3"
  }
 },
 "nbformat": 4,
 "nbformat_minor": 4
}
